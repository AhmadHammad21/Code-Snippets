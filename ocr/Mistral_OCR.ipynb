{
 "cells": [
  {
   "cell_type": "markdown",
   "metadata": {},
   "source": [
    "## Extract Content from PDF"
   ]
  },
  {
   "cell_type": "code",
   "execution_count": 1,
   "metadata": {},
   "outputs": [],
   "source": [
    "# !pip install mistral"
   ]
  },
  {
   "cell_type": "code",
   "execution_count": 2,
   "metadata": {},
   "outputs": [],
   "source": [
    "# File URL you want to extract\n",
    "FILE_URL  = \"https://docs-ahmad.s3.us-east-1.amazonaws.com/Insurance.pdf\""
   ]
  },
  {
   "cell_type": "code",
   "execution_count": 3,
   "metadata": {},
   "outputs": [],
   "source": [
    "import re\n",
    "import json\n",
    "import pandas as pd\n",
    "from mistralai import Mistral\n",
    "\n",
    "api_key = '5eVI4MbP8v5IttDlD7sYmhIpQrkuVlqA'\n",
    "client = Mistral(api_key=api_key)\n",
    "\n",
    "ocr_response = client.ocr.process(\n",
    "    model=\"mistral-ocr-latest\",\n",
    "    document={\n",
    "        \"type\": \"document_url\",\n",
    "        \"document_url\": FILE_URL\n",
    "    },\n",
    "    include_image_base64=True\n",
    ")"
   ]
  },
  {
   "cell_type": "code",
   "execution_count": 4,
   "metadata": {},
   "outputs": [
    {
     "name": "stdout",
     "output_type": "stream",
     "text": [
      "# Insurance Quotation \n",
      "\n",
      "Number of lives per class and their premium costs table\n",
      "\n",
      "| Class | Number of Lives | Premium Cost |\n",
      "| :--: | :--: | :--: |\n",
      "| VIP | 120 | 180,000 |\n",
      "| A | 300 | 300,000 |\n",
      "| B | 500 | 355,000 |\n",
      "| C | 1000 | 500,000 |\n",
      "\n",
      "عدد الأشخاص حسب الفئة والجنسية\n",
      "\n",
      "| عدد الأشخاص | الجنسية | الفئة |\n",
      "| :--: | :--: | :--: |\n",
      "| 100 | أردني | VIP |\n",
      "| 20 | غير أردني | VIP |\n",
      "| 300 | أردني | A |\n",
      "| 100 | غير أردني | A |\n"
     ]
    }
   ],
   "source": [
    "print(ocr_response.pages[0].markdown)"
   ]
  },
  {
   "cell_type": "markdown",
   "metadata": {},
   "source": [
    "## Document Understanding"
   ]
  },
  {
   "cell_type": "code",
   "execution_count": 5,
   "metadata": {},
   "outputs": [
    {
     "name": "stdout",
     "output_type": "stream",
     "text": [
      "```json\n",
      "<START_TABLE>\n",
      "{\n",
      "    \"Class\": [\"VIP\", \"A\", \"B\", \"C\"],\n",
      "    \"Number of Lives\": [120, 300, 500, 1000],\n",
      "    \"Premium Cost\": [\"180,000\", \"300,000\", \"355,000\", \"500,000\"]\n",
      "}\n",
      "</START_TABLE>\n",
      "\n",
      "<START_TABLE>\n",
      "{\n",
      "    \"Number of People\": [100, 20, 300, 100],\n",
      "    \"Nationality\": [\"أردني\", \"غير أردني\", \"أردني\", \"غير أردني\"],\n",
      "    \"Class\": [\"VIP\", \"VIP\", \"A\", \"A\"]\n",
      "}\n",
      "</START_TABLE>\n",
      "```\n"
     ]
    }
   ],
   "source": [
    "from mistralai import Mistral\n",
    "\n",
    "# Specify model\n",
    "model = \"pixtral-12b-2409\"\n",
    "\n",
    "# Initialize the Mistral client\n",
    "client = Mistral(api_key=api_key)\n",
    "\n",
    "text_query = \"\"\"\n",
    "    Give me Breakup of Census and Breakup of Rates tables in a usable manner. \n",
    "    give me each table as dictoinary where column name is key and value is the values. \n",
    "    So it can be ready to convert to a pandas dataframe.\n",
    "    Please only return the data, I don't want anything additional. \n",
    "    Please add <START_TABLE> tag and </START_TABLE> tag so it's easier for me to use. Please keep the languages as the origin.\n",
    "    The document probably contains English and arabic content so please extract them well\"\"\"\n",
    "\n",
    "# Define the messages for the chat\n",
    "messages = [\n",
    "    {\n",
    "        \"role\": \"user\",\n",
    "        \"content\": [\n",
    "            {\n",
    "                \"type\": \"text\",\n",
    "                \"text\": text_query\n",
    "            },\n",
    "            {        \n",
    "                \"type\": \"document_url\",\n",
    "                \"document_url\": FILE_URL,\n",
    "            }\n",
    "        ]\n",
    "    }\n",
    "]\n",
    "\n",
    "# Get the chat response\n",
    "chat_response = client.chat.complete(\n",
    "    model=model,\n",
    "    messages=messages\n",
    ")\n",
    "\n",
    "# Print the content of the response\n",
    "response = chat_response.choices[0].message.content\n",
    "print(response)"
   ]
  },
  {
   "cell_type": "code",
   "execution_count": 6,
   "metadata": {},
   "outputs": [],
   "source": [
    "text = response\n",
    "# Update regex to match <START_TABLE> and </START_TABLE>\n",
    "matches = re.findall(r'<START_TABLE>(.*?)</START_TABLE>', response, flags=re.DOTALL)\n",
    "\n",
    "data_list = []\n",
    "# Check if matches are found\n",
    "if matches:\n",
    "    for match in matches:\n",
    "        # Clean up the match to make it valid JSON\n",
    "        json_data = match.strip()\n",
    "        try:\n",
    "            # Parse the cleaned JSON string\n",
    "            data = json.loads(json_data)\n",
    "            data_list.append(data)\n",
    "        except json.JSONDecodeError as e:\n",
    "            print(\"Error parsing JSON:\", e)\n",
    "else:\n",
    "    print(\"No tables found.\")"
   ]
  },
  {
   "cell_type": "code",
   "execution_count": 7,
   "metadata": {},
   "outputs": [
    {
     "data": {
      "text/html": [
       "<div>\n",
       "<style scoped>\n",
       "    .dataframe tbody tr th:only-of-type {\n",
       "        vertical-align: middle;\n",
       "    }\n",
       "\n",
       "    .dataframe tbody tr th {\n",
       "        vertical-align: top;\n",
       "    }\n",
       "\n",
       "    .dataframe thead th {\n",
       "        text-align: right;\n",
       "    }\n",
       "</style>\n",
       "<table border=\"1\" class=\"dataframe\">\n",
       "  <thead>\n",
       "    <tr style=\"text-align: right;\">\n",
       "      <th></th>\n",
       "      <th>Class</th>\n",
       "      <th>Number of Lives</th>\n",
       "      <th>Premium Cost</th>\n",
       "    </tr>\n",
       "  </thead>\n",
       "  <tbody>\n",
       "    <tr>\n",
       "      <th>0</th>\n",
       "      <td>VIP</td>\n",
       "      <td>120</td>\n",
       "      <td>180,000</td>\n",
       "    </tr>\n",
       "    <tr>\n",
       "      <th>1</th>\n",
       "      <td>A</td>\n",
       "      <td>300</td>\n",
       "      <td>300,000</td>\n",
       "    </tr>\n",
       "    <tr>\n",
       "      <th>2</th>\n",
       "      <td>B</td>\n",
       "      <td>500</td>\n",
       "      <td>355,000</td>\n",
       "    </tr>\n",
       "    <tr>\n",
       "      <th>3</th>\n",
       "      <td>C</td>\n",
       "      <td>1000</td>\n",
       "      <td>500,000</td>\n",
       "    </tr>\n",
       "  </tbody>\n",
       "</table>\n",
       "</div>"
      ],
      "text/plain": [
       "  Class  Number of Lives Premium Cost\n",
       "0   VIP              120      180,000\n",
       "1     A              300      300,000\n",
       "2     B              500      355,000\n",
       "3     C             1000      500,000"
      ]
     },
     "execution_count": 7,
     "metadata": {},
     "output_type": "execute_result"
    }
   ],
   "source": [
    "pd.DataFrame(data_list[0])"
   ]
  },
  {
   "cell_type": "code",
   "execution_count": 8,
   "metadata": {},
   "outputs": [
    {
     "data": {
      "text/html": [
       "<div>\n",
       "<style scoped>\n",
       "    .dataframe tbody tr th:only-of-type {\n",
       "        vertical-align: middle;\n",
       "    }\n",
       "\n",
       "    .dataframe tbody tr th {\n",
       "        vertical-align: top;\n",
       "    }\n",
       "\n",
       "    .dataframe thead th {\n",
       "        text-align: right;\n",
       "    }\n",
       "</style>\n",
       "<table border=\"1\" class=\"dataframe\">\n",
       "  <thead>\n",
       "    <tr style=\"text-align: right;\">\n",
       "      <th></th>\n",
       "      <th>Number of People</th>\n",
       "      <th>Nationality</th>\n",
       "      <th>Class</th>\n",
       "    </tr>\n",
       "  </thead>\n",
       "  <tbody>\n",
       "    <tr>\n",
       "      <th>0</th>\n",
       "      <td>100</td>\n",
       "      <td>أردني</td>\n",
       "      <td>VIP</td>\n",
       "    </tr>\n",
       "    <tr>\n",
       "      <th>1</th>\n",
       "      <td>20</td>\n",
       "      <td>غير أردني</td>\n",
       "      <td>VIP</td>\n",
       "    </tr>\n",
       "    <tr>\n",
       "      <th>2</th>\n",
       "      <td>300</td>\n",
       "      <td>أردني</td>\n",
       "      <td>A</td>\n",
       "    </tr>\n",
       "    <tr>\n",
       "      <th>3</th>\n",
       "      <td>100</td>\n",
       "      <td>غير أردني</td>\n",
       "      <td>A</td>\n",
       "    </tr>\n",
       "  </tbody>\n",
       "</table>\n",
       "</div>"
      ],
      "text/plain": [
       "   Number of People Nationality Class\n",
       "0               100       أردني   VIP\n",
       "1                20   غير أردني   VIP\n",
       "2               300       أردني     A\n",
       "3               100   غير أردني     A"
      ]
     },
     "execution_count": 8,
     "metadata": {},
     "output_type": "execute_result"
    }
   ],
   "source": [
    "pd.DataFrame(data_list[1])"
   ]
  },
  {
   "cell_type": "markdown",
   "metadata": {},
   "source": [
    "More info on https://docs.mistral.ai/capabilities/document/#document-understanding"
   ]
  }
 ],
 "metadata": {
  "kernelspec": {
   "display_name": "Python 3 (ipykernel)",
   "language": "python",
   "name": "python3"
  },
  "language_info": {
   "codemirror_mode": {
    "name": "ipython",
    "version": 3
   },
   "file_extension": ".py",
   "mimetype": "text/x-python",
   "name": "python",
   "nbconvert_exporter": "python",
   "pygments_lexer": "ipython3",
   "version": "3.10.4"
  }
 },
 "nbformat": 4,
 "nbformat_minor": 4
}
